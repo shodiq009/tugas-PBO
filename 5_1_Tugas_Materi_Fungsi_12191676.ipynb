{
 "cells": [
  {
   "cell_type": "code",
   "execution_count": null,
   "metadata": {
    "id": "22s8pI85u5_J"
   },
   "outputs": [],
   "source": []
  },
  {
   "cell_type": "markdown",
   "metadata": {
    "id": "fPMZcyuxvINI"
   },
   "source": [
    "**Soal 5.1.1**\n",
    "\n",
    "Berikut ini adalah potongan kode implementasi fungsi *luas_limas_segi_empat()*\n",
    "``` javascript\n",
    "print(\"Luas : %d\" % luas_limas_segi_empat(Alas_limas, Tinggi_limas))​\n",
    "```\n",
    "Lengkapilah kode tersebut dengan merancang sebuah fungsi agar bisa diimplementasikan sesuai dengan statment potongan kode diatas.\n",
    "dengan mengetikan pada code cell di bawah ini pada editor."
   ]
  },
  {
   "cell_type": "code",
   "execution_count": 16,
   "metadata": {
    "id": "WMeeaGjuxQfL"
   },
   "outputs": [
    {
     "name": "stdout",
     "output_type": "stream",
     "text": [
      "Masukan sisi :2\n",
      "Alas limas :  4\n",
      "Masukan tinggi :4\n",
      "Tinggi limas 16.0\n",
      "luas =  4 + 16.0\n",
      "Luas : 20\n"
     ]
    }
   ],
   "source": [
    "# Soal 4.1.1\n",
    "def luas_limas_segi_empat(Alas_limas, Tinggi_limas):\n",
    "    luas = Alas_limas + Tinggi_limas\n",
    "    print(\"luas = \", Alas_limas, \"+\", Tinggi_limas)\n",
    "    return(luas)\n",
    "\n",
    "sisi = int(input(\"Masukan sisi :\"))\n",
    "Alas_limas = sisi * sisi\n",
    "print(\"Alas limas : \",Alas_limas)\n",
    "\n",
    "tinggi = int(input(\"Masukan tinggi :\"))\n",
    "Tinggi_limas = 4*(0.5*sisi*tinggi)\n",
    "print(\"Tinggi limas\",Tinggi_limas)\n",
    "\n",
    "print(\"Luas : %d\" % luas_limas_segi_empat(Alas_limas, Tinggi_limas))\n"
   ]
  }
 ],
 "metadata": {
  "colab": {
   "collapsed_sections": [],
   "name": "5.1_Tugas_Materi_Fungsi.ipynb",
   "provenance": []
  },
  "kernelspec": {
   "display_name": "Python 3",
   "language": "python",
   "name": "python3"
  },
  "language_info": {
   "codemirror_mode": {
    "name": "ipython",
    "version": 3
   },
   "file_extension": ".py",
   "mimetype": "text/x-python",
   "name": "python",
   "nbconvert_exporter": "python",
   "pygments_lexer": "ipython3",
   "version": "3.8.3"
  }
 },
 "nbformat": 4,
 "nbformat_minor": 1
}
